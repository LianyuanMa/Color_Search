{
 "cells": [
  {
   "cell_type": "markdown",
   "id": "98e67970-e50d-4ec9-9483-9f1343bd0495",
   "metadata": {},
   "source": [
    "## Testing"
   ]
  },
  {
   "cell_type": "code",
   "execution_count": null,
   "id": "d0820eef-0003-4016-be45-723943f67716",
   "metadata": {},
   "outputs": [],
   "source": [
    "import os\n",
    "from elasticsearch import Elasticsearch\n",
    "from piffle.iiif import IIIFImageClient \n",
    "from io import BytesIO\n",
    "import httpx\n",
    "from PIL import Image"
   ]
  },
  {
   "cell_type": "code",
   "execution_count": null,
   "id": "e3d7874b-e2c0-49c4-8014-dddebfb2e769",
   "metadata": {},
   "outputs": [],
   "source": [
    "local_es = Elasticsearch(\n",
    "    hosts=os.environ['LOCAL_HOST'],\n",
    "    http_auth=(\n",
    "        os.environ['LOCAL_USER'],\n",
    "        os.environ['LOCAL_PASS']\n",
    "    )\n",
    ")"
   ]
  },
  {
   "cell_type": "code",
   "execution_count": null,
   "id": "4da73f35-4eed-471b-a840-15f0b9f86ea4",
   "metadata": {},
   "outputs": [],
   "source": [
    "response = local_es.search(\n",
    "    index=os.environ['INDEX_NAME'],\n",
    "    body={\n",
    "        \"query\":{\n",
    "            \"match_all\":{}\n",
    "        },\n",
    "        \"size\":20,\n",
    "        \"from\":0,\n",
    "        \"sort\":{\n",
    "            \"_id\":\"asc\", #document ID. Unique(I guess)\n",
    "        },\n",
    "    }\n",
    ")"
   ]
  },
  {
   "cell_type": "code",
   "execution_count": null,
   "id": "9c658654-a508-4941-a6e3-4982cd9ff35c",
   "metadata": {},
   "outputs": [],
   "source": [
    "print(\n",
    "    f\"Found {response['hits']['total']['value']} \"\n",
    "    f\"results in {response['took'] / 1000}s\"\n",
    ")"
   ]
  },
  {
   "cell_type": "markdown",
   "id": "1b68137e-8905-4fa3-a361-2e52706529ef",
   "metadata": {},
   "source": [
    "It still gets 10000 results for each run. Can this be optimised?"
   ]
  },
  {
   "cell_type": "code",
   "execution_count": null,
   "id": "3dc81fad-67ed-4fdc-b346-acfd9c900bca",
   "metadata": {},
   "outputs": [],
   "source": [
    "#get the id for the last hit\n",
    "last_result = response['hits']['hits'][19]\n",
    "print(last_result['_id'])"
   ]
  },
  {
   "cell_type": "code",
   "execution_count": null,
   "id": "d6eaedfb-57e4-4983-9a3b-01caa6900181",
   "metadata": {},
   "outputs": [],
   "source": [
    "#checking the image\n",
    "iiif_url = last_result['_source']['state']['derivedData']['thumbnail']['url']\n",
    "image_url = str(IIIFImageClient().init_from_url(iiif_url).size(width=500))\n",
    "Image.open(BytesIO(httpx.get(image_url).content))"
   ]
  },
  {
   "cell_type": "code",
   "execution_count": null,
   "id": "a6888f54-222a-4668-b5e5-2bb5f80a55d2",
   "metadata": {},
   "outputs": [],
   "source": [
    "#Send a query again, searching after the last ID.\n",
    "response = local_es.search(\n",
    "    index=os.environ['INDEX_NAME'],\n",
    "    body={\n",
    "        \"query\":{\n",
    "            \"match_all\":{}\n",
    "        },\n",
    "        \"size\":20,\n",
    "        \"from\":0,\n",
    "        \"search_after\": [last_result['_id']],\n",
    "        \"sort\":{\n",
    "            \"_id\":\"asc\", #ascending order\n",
    "        },\n",
    "    }\n",
    ")"
   ]
  },
  {
   "cell_type": "code",
   "execution_count": null,
   "id": "81081ece-a46c-44fc-ac4a-241afa20d22b",
   "metadata": {},
   "outputs": [],
   "source": [
    "first_result = response['hits']['hits'][0]\n",
    "print(first_result['_id'])"
   ]
  },
  {
   "cell_type": "code",
   "execution_count": null,
   "id": "a15739d6-cb37-403e-aeb6-76138a9d2b77",
   "metadata": {},
   "outputs": [],
   "source": [
    "#checking the image\n",
    "iiif_url = first_result['_source']['state']['derivedData']['thumbnail']['url']\n",
    "image_url = str(IIIFImageClient().init_from_url(iiif_url).size(width=500))\n",
    "Image.open(BytesIO(httpx.get(image_url).content))"
   ]
  },
  {
   "cell_type": "markdown",
   "id": "17715f49-6784-48ee-ac68-ec645d6356a7",
   "metadata": {},
   "source": [
    "Check if the image sorted as expected."
   ]
  },
  {
   "cell_type": "code",
   "execution_count": null,
   "id": "7fe57b4e-96d9-4013-a7dd-f47a9b8b6ea9",
   "metadata": {},
   "outputs": [],
   "source": [
    "response = local_es.search(\n",
    "    index=os.environ['INDEX_NAME'],\n",
    "    body={\n",
    "        \"query\":{\n",
    "            \"match_all\":{}\n",
    "        },\n",
    "        \"size\":30,\n",
    "        \"from\":0,\n",
    "        \"search_after\": ['a24yqdyw'],\n",
    "        \"sort\":{\n",
    "            \"_id\":\"desc\", #descending order\n",
    "        },\n",
    "    }\n",
    ")\n",
    "\n",
    "first_result = response['hits']['hits'][0]\n",
    "print(first_result['_id'])\n",
    "#checking the image\n",
    "iiif_url = first_result['_source']['state']['derivedData']['thumbnail']['url']\n",
    "image_url = str(IIIFImageClient().init_from_url(iiif_url).size(width=500))\n",
    "Image.open(BytesIO(httpx.get(image_url).content))\n",
    "\n"
   ]
  },
  {
   "cell_type": "code",
   "execution_count": null,
   "id": "e93d1400-0e77-46a1-87cb-2af53a104a2e",
   "metadata": {},
   "outputs": [],
   "source": [
    "print(\n",
    "    f\"Found {response['hits']['total']['value']} \"\n",
    "    f\"results in {response['took'] / 1000}s\"\n",
    ")\n",
    "\n",
    "print()"
   ]
  },
  {
   "cell_type": "markdown",
   "id": "7efb25b2-f61f-44bc-b7ef-74c10b9d4ff8",
   "metadata": {},
   "source": [
    "This is weird. Why its still getting 10k results? There should only be 20."
   ]
  },
  {
   "cell_type": "code",
   "execution_count": null,
   "id": "1b996359-c8b3-49c2-aac4-1d13e63d337f",
   "metadata": {},
   "outputs": [],
   "source": [
    "print(len(response['hits']['hits']))\n",
    "last_result = response['hits']['hits'][20]\n",
    "print(last_result['_id'])"
   ]
  },
  {
   "cell_type": "markdown",
   "id": "6c4c9bc7-3ac6-4f70-95cc-f410d7eebd78",
   "metadata": {},
   "source": [
    "The hits does only have 20 elements. I'm confused. Is there any tool that I can use check the response JSON in a human eye frinedly way? (not the leeeeengthy data XD)"
   ]
  },
  {
   "cell_type": "markdown",
   "id": "c6e78411-5f23-428c-aa4b-03b5c18d7712",
   "metadata": {},
   "source": [
    "Any way, its functionally working. Time to load the process in a function!"
   ]
  },
  {
   "cell_type": "markdown",
   "id": "d3b56bf4-e7e2-4e95-addc-9f097f125b79",
   "metadata": {},
   "source": [
    "## Functions and Script"
   ]
  },
  {
   "cell_type": "code",
   "execution_count": null,
   "id": "53f930fc-2d6a-4dae-a500-2de28e4e05fa",
   "metadata": {},
   "outputs": [],
   "source": [
    "import os\n",
    "from elasticsearch import Elasticsearch\n",
    "from piffle.iiif import IIIFImageClient \n",
    "from io import BytesIO\n",
    "import httpx\n",
    "from PIL import Image\n",
    "\n",
    "#connect to ElasticSearch\n",
    "local_es = Elasticsearch(\n",
    "    hosts=os.environ['LOCAL_HOST'],\n",
    "    http_auth=(\n",
    "        os.environ['LOCAL_USER'],\n",
    "        os.environ['LOCAL_PASS']\n",
    "    )\n",
    ")\n",
    "\n",
    "#create a new index\n",
    "local_es.indices.create(\n",
    "    index='id_url_index', \n",
    "\n",
    ")\n",
    "index_name = 'id_url_index'\n",
    "\n",
    "\n",
    "\n",
    "def Extracting_url_ID(response): #run through each page and get the url\n",
    "    for doc in response['hits']['hits']:\n",
    "        ID_url_dict = {'id':doc['_id'],'url':doc['_source']['state']['derivedData']['thumbnail']['url']}\n",
    "        yield ID_url_dict #this is convenient!\n",
    "\n",
    "def index_traversing(es_object, size, index_name):\n",
    "    #run for 1 time and get a last_result\n",
    "    response = es_object.search(\n",
    "        index=os.environ['INDEX_NAME'],\n",
    "        body={\n",
    "            \"query\":{\"match_all\":{}},\n",
    "            \"size\":size,\n",
    "            \"from\":0,\n",
    "            \"sort\":{\n",
    "                \"_id\":\"asc\", #document ID. Unique(I guess)\n",
    "            },\n",
    "        }\n",
    "    )\n",
    "    #post the first 20 dictionaries\n",
    "    for ID_url_dict in Extracting_url_ID(response):\n",
    "        es_object.create(\n",
    "            index = index_name,\n",
    "            id = ID_url_dict['id'],\n",
    "            body = {\n",
    "                \"url\": ID_url_dict['url']\n",
    "            }\n",
    "        )\n",
    "        print(ID_url_dict['id'])\n",
    "    last_result_id = response['hits']['hits'][size-1]['_id']\n",
    "    counter = size #just to make the waiting time less painful \n",
    "    \n",
    "    while len(response['hits']['hits'])==size: #get in the loop!\n",
    "        response = es_object.search(\n",
    "            index=os.environ['INDEX_NAME'],\n",
    "            body={\n",
    "                \"query\":{\"match_all\":{}},\n",
    "                \"size\":size,\n",
    "                \"from\":0,\n",
    "                \"sort\":{\n",
    "                    \"_id\":\"asc\", #document ID. Unique(I guess)\n",
    "                },\n",
    "                \"search_after\": [last_result_id],\n",
    "            }\n",
    "        )\n",
    "        for ID_url_dict in Extracting_url_ID(response): #post the dictionaries\n",
    "            es_object.create(\n",
    "                index = index_name,\n",
    "                id = ID_url_dict['id'],\n",
    "                body = {\n",
    "                    \"url\": ID_url_dict['url']\n",
    "                }\n",
    "            )\n",
    "            print(ID_url_dict['id']) #just to make the waiting time less painful \n",
    "        last_result_id = ID_url_dict['id'] #update the last ID\n",
    "        counter+=size\n",
    "        print(counter)\n",
    "            \n",
    "index_traversing(local_es, 20, index_name)\n"
   ]
  },
  {
   "cell_type": "markdown",
   "id": "f74e0cd3-2560-4a18-b575-693ba98c88e5",
   "metadata": {},
   "source": [
    "I need to stop this! XXXXXXD"
   ]
  },
  {
   "cell_type": "code",
   "execution_count": null,
   "id": "34123190-3f10-4d78-bce2-3c1c12fadab0",
   "metadata": {},
   "outputs": [],
   "source": [
    "local_es.indices.delete(\n",
    "    index='id_url_index', \n",
    ")"
   ]
  },
  {
   "cell_type": "code",
   "execution_count": null,
   "id": "1dc829b9-808c-4033-a83d-de799ab87952",
   "metadata": {
    "tags": []
   },
   "outputs": [],
   "source": [
    "import os\n",
    "from elasticsearch import Elasticsearch\n",
    "from piffle.iiif import IIIFImageClient \n",
    "from io import BytesIO\n",
    "import httpx\n",
    "from PIL import Image\n",
    "\n",
    "#connect to ElasticSearch\n",
    "local_es = Elasticsearch(\n",
    "    hosts=os.environ['LOCAL_HOST'],\n",
    "    http_auth=(\n",
    "        os.environ['LOCAL_USER'],\n",
    "        os.environ['LOCAL_PASS']\n",
    "    )\n",
    ")\n",
    "\n",
    "#create a new index\n",
    "local_es.indices.create(\n",
    "    index='id_url_index_2', \n",
    ")\n",
    "index_name = 'id_url_index_2'\n",
    "\n",
    "\n",
    "\n",
    "def Extracting_url_ID(response): #run through each page and get the url\n",
    "    for doc in response['hits']['hits']:\n",
    "        ID_url_dict = {'id':doc['_id'],'url':doc['_source']['url']}\n",
    "        yield ID_url_dict #this is convenient!\n",
    "\n",
    "def index_traversing(es_object, size, index_name):\n",
    "    #run for 1 time and get a last_result\n",
    "    response = es_object.search(\n",
    "        index='id_url_index',\n",
    "        body={\n",
    "            \"query\":{\"match_all\":{}},\n",
    "            \"size\":size,\n",
    "            \"from\":0,\n",
    "            \"sort\":{\n",
    "                \"_id\":\"asc\", #document ID. Unique(I guess)\n",
    "            },\n",
    "        }\n",
    "    )\n",
    "    #post the first 20 dictionaries\n",
    "    for ID_url_dict in Extracting_url_ID(response):\n",
    "        es_object.create(\n",
    "            index = index_name,\n",
    "            id = ID_url_dict['id'],\n",
    "            body = {\n",
    "                \"url\": ID_url_dict['url']\n",
    "            }\n",
    "        )\n",
    "        print(ID_url_dict['id'])\n",
    "    last_result_id = response['hits']['hits'][size-1]['_id']\n",
    "    counter = size #just to make the waiting time less painful \n",
    "    \n",
    "    while len(response['hits']['hits'])==size: #get in the loop!\n",
    "        response = es_object.search(\n",
    "            index='id_url_index',\n",
    "            body={\n",
    "                \"query\":{\"match_all\":{}},\n",
    "                \"size\":size,\n",
    "                \"from\":0,\n",
    "                \"sort\":{\n",
    "                    \"_id\":\"asc\", #document ID. Unique(I guess)\n",
    "                },\n",
    "                \"search_after\": [last_result_id],\n",
    "            }\n",
    "        )\n",
    "        for ID_url_dict in Extracting_url_ID(response): #post the dictionaries\n",
    "            es_object.create(\n",
    "                index = index_name,\n",
    "                id = ID_url_dict['id'],\n",
    "                body = {\n",
    "                    \"url\": ID_url_dict['url']\n",
    "                }\n",
    "            )\n",
    "            print(ID_url_dict['id']) #just to make the waiting time less painful \n",
    "        last_result_id = ID_url_dict['id'] #update the last ID\n",
    "        counter+=size\n",
    "        print(counter)\n",
    "            \n",
    "index_traversing(local_es, 20, index_name)\n"
   ]
  },
  {
   "cell_type": "code",
   "execution_count": null,
   "id": "0e2972b9-5dde-4827-86d9-69e976b4c341",
   "metadata": {},
   "outputs": [],
   "source": [
    "local_es.indices.delete(\n",
    "    index='id_url_index_2'\n",
    ")"
   ]
  },
  {
   "cell_type": "code",
   "execution_count": null,
   "id": "15d82a2d-e1c8-457f-8c2d-5f0affd41a74",
   "metadata": {},
   "outputs": [],
   "source": [
    "import os\n",
    "from elasticsearch import Elasticsearch\n",
    "from piffle.iiif import IIIFImageClient \n",
    "from io import BytesIO\n",
    "import httpx\n",
    "from PIL import Image\n",
    "\n",
    "#connect to ElasticSearch\n",
    "local_es = Elasticsearch(\n",
    "    hosts=os.environ['LOCAL_HOST'],\n",
    "    http_auth=(\n",
    "        os.environ['LOCAL_USER'],\n",
    "        os.environ['LOCAL_PASS']\n",
    "    )\n",
    ")\n",
    "response = local_es.search(\n",
    "    index='id_url_index',\n",
    "    body={\n",
    "        \"query\":{\n",
    "            \"match_all\":{}\n",
    "        },\n",
    "        \"size\":20,\n",
    "        \"from\":0,\n",
    "    }\n",
    ")\n",
    "\n",
    "response\n",
    "\n",
    "\n"
   ]
  },
  {
   "cell_type": "code",
   "execution_count": null,
   "id": "080da785-62dc-461c-90d1-0dfb03e0215d",
   "metadata": {},
   "outputs": [],
   "source": [
    "response = local_es.get(\n",
    "    index = 'id_url_index',\n",
    "    id = 'a2ce3qkt',\n",
    ")\n",
    "response"
   ]
  },
  {
   "cell_type": "code",
   "execution_count": null,
   "id": "17d34932-20f1-4feb-b551-c87d092cda8b",
   "metadata": {},
   "outputs": [],
   "source": [
    "response = local_es.count(\n",
    "        index='id_url_index',\n",
    "    )\n",
    "\n",
    "response"
   ]
  },
  {
   "cell_type": "code",
   "execution_count": null,
   "id": "e05aaee8-e36e-47cc-94b9-d363c520f752",
   "metadata": {},
   "outputs": [],
   "source": []
  }
 ],
 "metadata": {
  "kernelspec": {
   "display_name": "Python 3 (ipykernel)",
   "language": "python",
   "name": "python3"
  },
  "language_info": {
   "codemirror_mode": {
    "name": "ipython",
    "version": 3
   },
   "file_extension": ".py",
   "mimetype": "text/x-python",
   "name": "python",
   "nbconvert_exporter": "python",
   "pygments_lexer": "ipython3",
   "version": "3.9.5"
  }
 },
 "nbformat": 4,
 "nbformat_minor": 5
}
