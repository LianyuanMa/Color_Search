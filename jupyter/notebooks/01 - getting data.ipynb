{
 "cells": [
  {
   "cell_type": "code",
   "execution_count": null,
   "metadata": {
    "tags": []
   },
   "outputs": [],
   "source": [
    "import os\n",
    "from elasticsearch import Elasticsearch"
   ]
  },
  {
   "cell_type": "markdown",
   "metadata": {},
   "source": [
    "# Getting data\n",
    "Before we start our search and similarity experiments, we need data. \n",
    "\n",
    "We're going to copy the wellcome collection image dataset from the production cluster to our local machine. Some of the elasticsearch concepts in this notebook might be a bit unclear while we run through these steps, but they should be made clearer over the next few notebooks where we'll have a populated data store to experiment in. \n",
    "\n",
    "We're basically going to be following [this guide](https://www.elastic.co/guide/en/elasticsearch/reference/current/reindex-upgrade-remote.html) for reindexing data from a remote index to a local one, mirroring instructions with the [python elasticsearch library](https://elasticsearch-py.readthedocs.io/en/latest/index.html).\n",
    "\n",
    "## Connecting to a remote cluster\n",
    "First we want to check that our source index exists and that the cluster it's running in is healthy etc. To connect to the cluster, we'll be making use of the variables we defined in `.env`."
   ]
  },
  {
   "cell_type": "code",
   "execution_count": null,
   "metadata": {},
   "outputs": [],
   "source": [
    "remote_es = Elasticsearch(\n",
    "    hosts=os.environ['REMOTE_HOST'],\n",
    "    http_auth=(\n",
    "        os.environ['REMOTE_USER'],\n",
    "        os.environ['REMOTE_PASS']\n",
    "    )\n",
    ")"
   ]
  },
  {
   "cell_type": "code",
   "execution_count": null,
   "metadata": {
    "tags": []
   },
   "outputs": [],
   "source": [
    "response = remote_es.search(\n",
    "    body={\"query\": {\"match_all\": {}}},\n",
    "    index=os.environ['INDEX_NAME']\n",
    ")"
   ]
  },
  {
   "cell_type": "markdown",
   "metadata": {},
   "source": [
    "## Connecting to our local cluster\n",
    "This is our cluster running in docker, which is connected to this jupyter container through a [bridge network](https://docs.docker.com/network/bridge/). \n",
    "\n",
    "The `LOCAL_HOST` variable should be something like `http://elasticsearch:9200`. Instead of using `http://localhost:9200` as we normally would when running outside of docker, we replace `localhost` with `elasticsearch`, the same name we gave to the container which our local cluster is running in."
   ]
  },
  {
   "cell_type": "code",
   "execution_count": null,
   "metadata": {},
   "outputs": [],
   "source": [
    "local_es = Elasticsearch(\n",
    "    hosts=os.environ['LOCAL_HOST'],\n",
    "    http_auth=(\n",
    "        os.environ['LOCAL_USER'],\n",
    "        os.environ['LOCAL_PASS']\n",
    "    )\n",
    ")"
   ]
  },
  {
   "cell_type": "markdown",
   "metadata": {},
   "source": [
    "There's no data in here (yet) so there's nothing for us to look at. Let's print a list of the existing indexes in the cluster, just to make sure."
   ]
  },
  {
   "cell_type": "code",
   "execution_count": null,
   "metadata": {},
   "outputs": [],
   "source": [
    "local_es.indices.get_alias(\"*\")"
   ]
  },
  {
   "cell_type": "markdown",
   "metadata": {},
   "source": [
    "See, nothing.\n",
    "\n",
    "We should create an index with the appropriate name to reindex our remote data into, and modify a couple of settings to make the reindex run faster."
   ]
  },
  {
   "cell_type": "code",
   "execution_count": null,
   "metadata": {},
   "outputs": [],
   "source": [
    "local_es.indices.create(\n",
    "    index=os.environ['INDEX_NAME'], \n",
    "    body={\n",
    "        \"settings\" : {\n",
    "            \"refresh_interval\": -1,\n",
    "            \"number_of_replicas\": 0\n",
    "        },\n",
    "    }\n",
    ")\n"
   ]
  },
  {
   "cell_type": "markdown",
   "metadata": {},
   "source": [
    "Let's verify that that index now exists:"
   ]
  },
  {
   "cell_type": "code",
   "execution_count": null,
   "metadata": {},
   "outputs": [],
   "source": [
    "local_es.indices.get_alias(\"*\")"
   ]
  },
  {
   "cell_type": "markdown",
   "metadata": {},
   "source": [
    "Great, now we have a remote and local index to work with.\n",
    "\n",
    "We're going to kick off a reindex from our remote cluster into our little local one. Normally, this command would run for a few seconds before timing out and cancelling the reindex. To stop that from happening, we'll set `wait_for_completion=False` so that the operation will run in the background without timing out. The command will then return a response containing a task ID, which we can use to monitor the progress of the reindex."
   ]
  },
  {
   "cell_type": "code",
   "execution_count": null,
   "metadata": {},
   "outputs": [],
   "source": [
    "response = local_es.reindex(\n",
    "    body={\n",
    "        \"source\": {\n",
    "            \"remote\": {\n",
    "                \"host\": os.environ['REMOTE_HOST'],\n",
    "                \"username\": os.environ['REMOTE_USER'],\n",
    "                \"password\": os.environ['REMOTE_PASS']\n",
    "            },\n",
    "            \"index\": os.environ['INDEX_NAME'],\n",
    "        },\n",
    "        \"dest\":{\n",
    "            \"index\": os.environ['INDEX_NAME']\n",
    "        },\n",
    "    },\n",
    "    wait_for_completion=False\n",
    ")\n",
    "\n",
    "response"
   ]
  },
  {
   "cell_type": "markdown",
   "metadata": {},
   "source": [
    "## Monitoring the state of the reindex"
   ]
  },
  {
   "cell_type": "code",
   "execution_count": null,
   "metadata": {},
   "outputs": [],
   "source": [
    "local_es.tasks.get(response['task'])"
   ]
  },
  {
   "cell_type": "markdown",
   "metadata": {},
   "source": [
    "If you need to cancel the reindex at any point, run:"
   ]
  },
  {
   "cell_type": "raw",
   "metadata": {},
   "source": [
    "local_es.tasks.cancel(response['task'])"
   ]
  },
  {
   "cell_type": "markdown",
   "metadata": {},
   "source": [
    "## When the reindex finishes\n",
    "\n",
    "Finally, when all the data has been copied over to our local index, we need to modify the index settings again. We set a custom `refresh_interval` and `number_of_replicas` when we created the index so that the reindex would run quickly - now we should set them back to the default so that the data can actually be searched."
   ]
  },
  {
   "cell_type": "code",
   "execution_count": null,
   "metadata": {},
   "outputs": [],
   "source": [
    "local_es.indices.put_settings(\n",
    "    index=os.environ['INDEX_NAME'],\n",
    "    body={\n",
    "        \"settings\" : {\n",
    "            \"refresh_interval\": \"30s\",\n",
    "            \"number_of_replicas\": 1\n",
    "        },\n",
    "    }\n",
    ")"
   ]
  },
  {
   "cell_type": "markdown",
   "metadata": {},
   "source": [
    "Now we can start working seriously on search and similarity!"
   ]
  }
 ],
 "metadata": {
  "kernelspec": {
   "display_name": "Python 3 (ipykernel)",
   "language": "python",
   "name": "python3"
  },
  "language_info": {
   "codemirror_mode": {
    "name": "ipython",
    "version": 3
   },
   "file_extension": ".py",
   "mimetype": "text/x-python",
   "name": "python",
   "nbconvert_exporter": "python",
   "pygments_lexer": "ipython3",
   "version": "3.9.5"
  }
 },
 "nbformat": 4,
 "nbformat_minor": 4
}
