{
 "cells": [
  {
   "cell_type": "code",
   "execution_count": null,
   "id": "f9a308df-8c78-411e-b95d-c038f52e58bf",
   "metadata": {
    "tags": []
   },
   "outputs": [],
   "source": [
    "import os\n",
    "from elasticsearch import Elasticsearch\n",
    "from piffle.iiif import IIIFImageClient \n",
    "from io import BytesIO\n",
    "import httpx\n",
    "from PIL import Image\n",
    "import requests\n",
    "import json"
   ]
  },
  {
   "cell_type": "code",
   "execution_count": null,
   "id": "7f21ccca-d0d3-4efd-be02-6cd492d13e1f",
   "metadata": {},
   "outputs": [],
   "source": [
    "local_es = Elasticsearch(\n",
    "    hosts=os.environ['LOCAL_HOST'],\n",
    "    http_auth=(\n",
    "        os.environ['LOCAL_USER'],\n",
    "        os.environ['LOCAL_PASS']\n",
    "    )\n",
    ")"
   ]
  },
  {
   "cell_type": "code",
   "execution_count": null,
   "id": "316760df-5263-49de-9f82-0c4364687561",
   "metadata": {},
   "outputs": [],
   "source": [
    "response = local_es.get(\n",
    "    index='id_url_index',\n",
    "    id='zzxmkfbw'\n",
    ")\n",
    "\n",
    "response"
   ]
  },
  {
   "cell_type": "code",
   "execution_count": null,
   "id": "fc282568-a118-4586-a10d-2737425f0aa6",
   "metadata": {},
   "outputs": [],
   "source": [
    "local_es.index(\n",
    "                index='id_url_index',\n",
    "                id='zwnegudz',\n",
    "                body={\n",
    "                    \"iiif_url\": iiif_url,\n",
    "                    \"image_url\": image_url,\n",
    "                    \"cluster_infor\":{\n",
    "                        \"cluster_centers_list\": dr['center_list'],\n",
    "                        \"cluster_number\": dr['center_number']\n",
    "                    }\n",
    "\n",
    "                }\n",
    "            )"
   ]
  },
  {
   "cell_type": "raw",
   "id": "e939f424-cbbb-4306-861f-4765a74d1b48",
   "metadata": {
    "tags": []
   },
   "source": [
    "response = local_es.search(\n",
    "    index=os.environ['INDEX_NAME'],\n",
    "    body={\n",
    "          \"from\": 1,\n",
    "          \"size\": 2,\n",
    "          \"query\": {\n",
    "            \"match_all\": {\n",
    "                \n",
    "            }\n",
    "        }\n",
    "    }\n",
    ")"
   ]
  },
  {
   "cell_type": "code",
   "execution_count": null,
   "id": "b8aaaa04-cda5-4070-92ae-ca0ed81879e9",
   "metadata": {},
   "outputs": [],
   "source": [
    "print(\n",
    "    f\"Found {response['hits']['total']['value']} \"\n",
    "    f\"results in {response['took'] / 1000}s\"\n",
    ")"
   ]
  },
  {
   "cell_type": "code",
   "execution_count": null,
   "id": "502565f4-888a-4c34-93e9-66561841c031",
   "metadata": {},
   "outputs": [],
   "source": [
    "first_result = response['hits']['hits'][0]\n",
    "iiif_url = first_result['_source']['state']['derivedData']['thumbnail']['url']\n",
    "image_url = str(IIIFImageClient().init_from_url(iiif_url).size(width=500))\n",
    "Image.open(BytesIO(httpx.get(image_url).content))"
   ]
  },
  {
   "cell_type": "code",
   "execution_count": null,
   "id": "47f1d102-1970-43be-99c9-6e96e5bd699a",
   "metadata": {},
   "outputs": [],
   "source": [
    "last_result = response['hits']['hits'][19]\n",
    "iiif_url = last_result['_source']['state']['derivedData']['thumbnail']['url']\n",
    "image_url = str(IIIFImageClient().init_from_url(iiif_url).size(width=500))\n",
    "Image.open(BytesIO(httpx.get(image_url).content))"
   ]
  },
  {
   "cell_type": "code",
   "execution_count": null,
   "id": "437a8bb6-decc-415e-bf5e-4bf19ddaceb5",
   "metadata": {},
   "outputs": [],
   "source": [
    "blast_result = response['hits']['hits'][18]\n",
    "iiif_url = blast_result['_source']['state']['derivedData']['thumbnail']['url']\n",
    "image_url = str(IIIFImageClient().init_from_url(iiif_url).size(width=500))\n",
    "Image.open(BytesIO(httpx.get(image_url).content))"
   ]
  },
  {
   "cell_type": "code",
   "execution_count": null,
   "id": "640dadca-e213-470f-8458-8d2c6cea5547",
   "metadata": {},
   "outputs": [],
   "source": [
    "print(last_result['_id'])"
   ]
  },
  {
   "cell_type": "code",
   "execution_count": null,
   "id": "fdad49a6-f893-44d3-b507-b06f4b7c37c4",
   "metadata": {},
   "outputs": [],
   "source": [
    "print(first_result['_id'])"
   ]
  },
  {
   "cell_type": "code",
   "execution_count": null,
   "id": "5001224a-67d0-4587-a480-fd6d17e94f6c",
   "metadata": {},
   "outputs": [],
   "source": [
    "print(blast_result['_id'])"
   ]
  },
  {
   "cell_type": "code",
   "execution_count": null,
   "id": "eb7ef8dc-57d1-4450-9974-f3dd59f24fee",
   "metadata": {},
   "outputs": [],
   "source": [
    "search_terms = \"cat\"\n",
    "\n",
    "response = local_es.search(\n",
    "    index=os.environ['INDEX_NAME'],\n",
    "    body={\n",
    "          \"query\": {\n",
    "                \"match_all\": {\n",
    "                \n",
    "            }\n",
    "          },\n",
    "  \"size\": 50,\n",
    "  \"from\": 0,\n",
    "                \"search_after\": [\"zzwkdz6j\"],\n",
    "  \"sort\": [\n",
    "    {\n",
    "      \"_id\": {\n",
    "        \"order\": \"desc\"\n",
    "      }\n",
    "    }\n",
    "  ]\n",
    "\n",
    "}\n",
    ")\n"
   ]
  },
  {
   "cell_type": "code",
   "execution_count": null,
   "id": "be7523c9-1a66-4d3a-bcc1-b27bf538adb7",
   "metadata": {},
   "outputs": [],
   "source": [
    "first_result = response['hits']['hits'][0]\n",
    "iiif_url = first_result['_source']['state']['derivedData']['thumbnail']['url']\n",
    "image_url = str(IIIFImageClient().init_from_url(iiif_url).size(width=500))\n",
    "Image.open(BytesIO(httpx.get(image_url).content))"
   ]
  },
  {
   "cell_type": "code",
   "execution_count": null,
   "id": "1074692a-02e6-445c-af60-ed9667050b6d",
   "metadata": {},
   "outputs": [],
   "source": [
    "print(\n",
    "    f\"Found {response['hits']['total']['value']} \"\n",
    "    f\"results in {response['took'] / 1000}s\"\n",
    ")"
   ]
  },
  {
   "cell_type": "code",
   "execution_count": null,
   "id": "3f6e0810-eb5b-476a-a078-0d0d046ed2bd",
   "metadata": {},
   "outputs": [],
   "source": [
    "last_result = response['hits']['hits'][49]\n",
    "iiif_url = last_result['_source']['state']['derivedData']['thumbnail']['url']\n",
    "image_url = str(IIIFImageClient().init_from_url(iiif_url).size(width=500))\n",
    "Image.open(BytesIO(httpx.get(image_url).content))"
   ]
  },
  {
   "cell_type": "code",
   "execution_count": null,
   "id": "1f3026d8-3fae-4eb0-99e9-40d1d981c44b",
   "metadata": {},
   "outputs": [],
   "source": [
    "print(last_result['_id'])"
   ]
  },
  {
   "cell_type": "code",
   "execution_count": null,
   "id": "03c20a43-0b9b-46d1-b266-736bade626c9",
   "metadata": {},
   "outputs": [],
   "source": [
    "search_terms = \"cat\"\n",
    "\n",
    "response = local_es.search(\n",
    "    index=os.environ['INDEX_NAME'],\n",
    "    body={\n",
    "          \"query\": {\n",
    "                \"match_all\": {\n",
    "                \n",
    "            }\n",
    "          },\n",
    "  \"size\": 50,\n",
    "  \"from\": 0,\n",
    "                \"search_after\": [\"zzwhp7e5\"],\n",
    "  \"sort\": [\n",
    "    {\n",
    "      \"_id\": {\n",
    "        \"order\": \"asc\"\n",
    "      }\n",
    "    }\n",
    "  ]\n",
    "\n",
    "}\n",
    ")\n"
   ]
  },
  {
   "cell_type": "code",
   "execution_count": null,
   "id": "c80d6540-27bb-479c-8dab-6469fe6b084d",
   "metadata": {},
   "outputs": [],
   "source": [
    "first_result = response['hits']['hits'][0]\n",
    "iiif_url = first_result['_source']['state']['derivedData']['thumbnail']['url']\n",
    "image_url = str(IIIFImageClient().init_from_url(iiif_url).size(width=500))\n",
    "Image.open(BytesIO(httpx.get(image_url).content))"
   ]
  },
  {
   "cell_type": "code",
   "execution_count": null,
   "id": "885adcf2-2368-41da-a897-3247c54b272f",
   "metadata": {},
   "outputs": [],
   "source": [
    "search_terms = \"cat\"\n",
    "\n",
    "for i in range(300):\n",
    "    response = local_es.search(\n",
    "    index=os.environ['INDEX_NAME'],\n",
    "    body={\n",
    "          \"query\": {\n",
    "                \"match_all\": {\n",
    "                \n",
    "            }\n",
    "          },\n",
    "  \"size\": 50,\n",
    "  \"from\": 0,\n",
    "                \"search_after\": [last_result['_id']],\n",
    "  \"sort\": [\n",
    "    {\n",
    "      \"_id\": {\n",
    "        \"order\": \"desc\"\n",
    "      }\n",
    "    }\n",
    "      ]\n",
    "    }\n",
    "    )\n",
    "    last_result = response['hits']['hits'][49]\n",
    "    print(response['hits']['hits'][49]['_id'])\n",
    "    print(i)\n",
    "\n",
    "\n"
   ]
  },
  {
   "cell_type": "code",
   "execution_count": null,
   "id": "1ae5c918-c5a6-4e5e-9347-f39b09f1f680",
   "metadata": {},
   "outputs": [],
   "source": [
    "print(response['hits']['hits'][49]['_id'])"
   ]
  },
  {
   "cell_type": "code",
   "execution_count": null,
   "id": "3239bcfc-887a-4cc4-9485-01fdd9c5e5ce",
   "metadata": {},
   "outputs": [],
   "source": [
    "last_result = response['hits']['hits'][199]\n",
    "iiif_url = last_result['_source']['state']['derivedData']['thumbnail']['url']\n",
    "image_url = str(IIIFImageClient().init_from_url(iiif_url).size(width=500))\n",
    "Image.open(BytesIO(httpx.get(image_url).content))\n"
   ]
  },
  {
   "cell_type": "code",
   "execution_count": null,
   "id": "6c53b3dd-b745-4494-9d1e-2f8e30d61c3e",
   "metadata": {},
   "outputs": [],
   "source": [
    "print(response['hits']['hits'][50]['_id'])"
   ]
  },
  {
   "cell_type": "code",
   "execution_count": null,
   "id": "24c692af-8a70-42da-a55f-28a9e44e2071",
   "metadata": {},
   "outputs": [],
   "source": [
    "a = 6\n",
    "s = str(a)\n",
    "print(type(s))"
   ]
  },
  {
   "cell_type": "code",
   "execution_count": null,
   "id": "1c6a21f2-6e23-4887-96e0-e473bcc76b5e",
   "metadata": {},
   "outputs": [],
   "source": []
  },
  {
   "cell_type": "code",
   "execution_count": null,
   "id": "d727f77a-3fce-47b3-a98c-9656c8b60807",
   "metadata": {},
   "outputs": [],
   "source": []
  }
 ],
 "metadata": {
  "kernelspec": {
   "display_name": "Python 3 (ipykernel)",
   "language": "python",
   "name": "python3"
  },
  "language_info": {
   "codemirror_mode": {
    "name": "ipython",
    "version": 3
   },
   "file_extension": ".py",
   "mimetype": "text/x-python",
   "name": "python",
   "nbconvert_exporter": "python",
   "pygments_lexer": "ipython3",
   "version": "3.9.6"
  }
 },
 "nbformat": 4,
 "nbformat_minor": 5
}
